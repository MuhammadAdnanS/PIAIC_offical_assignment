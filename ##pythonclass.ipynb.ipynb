{
 "cells": [
  {
   "cell_type": "code",
   "execution_count": 3,
   "metadata": {},
   "outputs": [],
   "source": [
    "###Create a function of calculator take something return something.\n",
    "def add_number(firstValue,SecondValue):\n",
    "    result = firstValue - SecondValue\n",
    "    return result\n"
   ]
  },
  {
   "cell_type": "code",
   "execution_count": 4,
   "metadata": {},
   "outputs": [
    {
     "name": "stdout",
     "output_type": "stream",
     "text": [
      "Enter any value12\n",
      "Enter any value14\n",
      "The output for Subtraction is -2\n"
     ]
    }
   ],
   "source": [
    "\n",
    "###Create a function of calculator take something return something.\n",
    "first_input = int(input(\"Enter any value\"))\n",
    "second_input = int(input(\"Enter any value\"))\n",
    "\n",
    "output = add_number(first_input,second_input)\n",
    "print(\"The output for Subtraction is \" + str(output))\n"
   ]
  }
 ],
 "metadata": {
  "kernelspec": {
   "display_name": "Python 3",
   "language": "python",
   "name": "python3"
  },
  "language_info": {
   "codemirror_mode": {
    "name": "ipython",
    "version": 3
   },
   "file_extension": ".py",
   "mimetype": "text/x-python",
   "name": "python",
   "nbconvert_exporter": "python",
   "pygments_lexer": "ipython3",
   "version": "3.7.3"
  }
 },
 "nbformat": 4,
 "nbformat_minor": 2
}
